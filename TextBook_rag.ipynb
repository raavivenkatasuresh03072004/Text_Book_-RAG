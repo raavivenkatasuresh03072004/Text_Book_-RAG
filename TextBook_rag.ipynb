{
 "cells": [
  {
   "cell_type": "markdown",
   "id": "4a286ac1",
   "metadata": {},
   "source": [
    "#RAG Implementation of all textbook subject wise"
   ]
  },
  {
   "cell_type": "code",
   "execution_count": 2,
   "id": "107f1d15",
   "metadata": {},
   "outputs": [
    {
     "name": "stdout",
     "output_type": "stream",
     "text": [
      "Requirement already satisfied: langchain in c:\\temp\\textbooksrag\\experimentss\\rag_buildling\\.venv\\lib\\site-packages (0.3.25)\n",
      "Requirement already satisfied: langchain-community in c:\\temp\\textbooksrag\\experimentss\\rag_buildling\\.venv\\lib\\site-packages (0.3.23)\n",
      "Requirement already satisfied: pypdf in c:\\temp\\textbooksrag\\experimentss\\rag_buildling\\.venv\\lib\\site-packages (5.4.0)\n",
      "Requirement already satisfied: langchain-core<1.0.0,>=0.3.58 in c:\\temp\\textbooksrag\\experimentss\\rag_buildling\\.venv\\lib\\site-packages (from langchain) (0.3.58)\n",
      "Requirement already satisfied: langchain-text-splitters<1.0.0,>=0.3.8 in c:\\temp\\textbooksrag\\experimentss\\rag_buildling\\.venv\\lib\\site-packages (from langchain) (0.3.8)\n",
      "Requirement already satisfied: langsmith<0.4,>=0.1.17 in c:\\temp\\textbooksrag\\experimentss\\rag_buildling\\.venv\\lib\\site-packages (from langchain) (0.3.42)\n",
      "Requirement already satisfied: pydantic<3.0.0,>=2.7.4 in c:\\temp\\textbooksrag\\experimentss\\rag_buildling\\.venv\\lib\\site-packages (from langchain) (2.11.4)\n",
      "Requirement already satisfied: SQLAlchemy<3,>=1.4 in c:\\temp\\textbooksrag\\experimentss\\rag_buildling\\.venv\\lib\\site-packages (from langchain) (2.0.40)\n",
      "Requirement already satisfied: requests<3,>=2 in c:\\temp\\textbooksrag\\experimentss\\rag_buildling\\.venv\\lib\\site-packages (from langchain) (2.32.3)\n",
      "Requirement already satisfied: PyYAML>=5.3 in c:\\temp\\textbooksrag\\experimentss\\rag_buildling\\.venv\\lib\\site-packages (from langchain) (6.0.2)\n",
      "Requirement already satisfied: aiohttp<4.0.0,>=3.8.3 in c:\\temp\\textbooksrag\\experimentss\\rag_buildling\\.venv\\lib\\site-packages (from langchain-community) (3.11.18)\n",
      "Requirement already satisfied: tenacity!=8.4.0,<10,>=8.1.0 in c:\\temp\\textbooksrag\\experimentss\\rag_buildling\\.venv\\lib\\site-packages (from langchain-community) (9.1.2)\n",
      "Requirement already satisfied: dataclasses-json<0.7,>=0.5.7 in c:\\temp\\textbooksrag\\experimentss\\rag_buildling\\.venv\\lib\\site-packages (from langchain-community) (0.6.7)\n",
      "Requirement already satisfied: pydantic-settings<3.0.0,>=2.4.0 in c:\\temp\\textbooksrag\\experimentss\\rag_buildling\\.venv\\lib\\site-packages (from langchain-community) (2.9.1)\n",
      "Requirement already satisfied: httpx-sse<1.0.0,>=0.4.0 in c:\\temp\\textbooksrag\\experimentss\\rag_buildling\\.venv\\lib\\site-packages (from langchain-community) (0.4.0)\n",
      "Requirement already satisfied: numpy>=1.26.2 in c:\\temp\\textbooksrag\\experimentss\\rag_buildling\\.venv\\lib\\site-packages (from langchain-community) (2.2.5)\n",
      "Requirement already satisfied: aiohappyeyeballs>=2.3.0 in c:\\temp\\textbooksrag\\experimentss\\rag_buildling\\.venv\\lib\\site-packages (from aiohttp<4.0.0,>=3.8.3->langchain-community) (2.6.1)\n",
      "Requirement already satisfied: aiosignal>=1.1.2 in c:\\temp\\textbooksrag\\experimentss\\rag_buildling\\.venv\\lib\\site-packages (from aiohttp<4.0.0,>=3.8.3->langchain-community) (1.3.2)\n",
      "Requirement already satisfied: attrs>=17.3.0 in c:\\temp\\textbooksrag\\experimentss\\rag_buildling\\.venv\\lib\\site-packages (from aiohttp<4.0.0,>=3.8.3->langchain-community) (25.3.0)\n",
      "Requirement already satisfied: frozenlist>=1.1.1 in c:\\temp\\textbooksrag\\experimentss\\rag_buildling\\.venv\\lib\\site-packages (from aiohttp<4.0.0,>=3.8.3->langchain-community) (1.6.0)\n",
      "Requirement already satisfied: multidict<7.0,>=4.5 in c:\\temp\\textbooksrag\\experimentss\\rag_buildling\\.venv\\lib\\site-packages (from aiohttp<4.0.0,>=3.8.3->langchain-community) (6.4.3)\n",
      "Requirement already satisfied: propcache>=0.2.0 in c:\\temp\\textbooksrag\\experimentss\\rag_buildling\\.venv\\lib\\site-packages (from aiohttp<4.0.0,>=3.8.3->langchain-community) (0.3.1)\n",
      "Requirement already satisfied: yarl<2.0,>=1.17.0 in c:\\temp\\textbooksrag\\experimentss\\rag_buildling\\.venv\\lib\\site-packages (from aiohttp<4.0.0,>=3.8.3->langchain-community) (1.20.0)\n",
      "Requirement already satisfied: marshmallow<4.0.0,>=3.18.0 in c:\\temp\\textbooksrag\\experimentss\\rag_buildling\\.venv\\lib\\site-packages (from dataclasses-json<0.7,>=0.5.7->langchain-community) (3.26.1)\n",
      "Requirement already satisfied: typing-inspect<1,>=0.4.0 in c:\\temp\\textbooksrag\\experimentss\\rag_buildling\\.venv\\lib\\site-packages (from dataclasses-json<0.7,>=0.5.7->langchain-community) (0.9.0)\n",
      "Requirement already satisfied: jsonpatch<2.0,>=1.33 in c:\\temp\\textbooksrag\\experimentss\\rag_buildling\\.venv\\lib\\site-packages (from langchain-core<1.0.0,>=0.3.58->langchain) (1.33)\n",
      "Requirement already satisfied: packaging<25,>=23.2 in c:\\temp\\textbooksrag\\experimentss\\rag_buildling\\.venv\\lib\\site-packages (from langchain-core<1.0.0,>=0.3.58->langchain) (24.2)\n",
      "Requirement already satisfied: typing-extensions>=4.7 in c:\\temp\\textbooksrag\\experimentss\\rag_buildling\\.venv\\lib\\site-packages (from langchain-core<1.0.0,>=0.3.58->langchain) (4.13.2)\n",
      "Requirement already satisfied: httpx<1,>=0.23.0 in c:\\temp\\textbooksrag\\experimentss\\rag_buildling\\.venv\\lib\\site-packages (from langsmith<0.4,>=0.1.17->langchain) (0.28.1)\n",
      "Requirement already satisfied: orjson<4.0.0,>=3.9.14 in c:\\temp\\textbooksrag\\experimentss\\rag_buildling\\.venv\\lib\\site-packages (from langsmith<0.4,>=0.1.17->langchain) (3.10.18)\n",
      "Requirement already satisfied: requests-toolbelt<2.0.0,>=1.0.0 in c:\\temp\\textbooksrag\\experimentss\\rag_buildling\\.venv\\lib\\site-packages (from langsmith<0.4,>=0.1.17->langchain) (1.0.0)\n",
      "Requirement already satisfied: zstandard<0.24.0,>=0.23.0 in c:\\temp\\textbooksrag\\experimentss\\rag_buildling\\.venv\\lib\\site-packages (from langsmith<0.4,>=0.1.17->langchain) (0.23.0)\n",
      "Requirement already satisfied: annotated-types>=0.6.0 in c:\\temp\\textbooksrag\\experimentss\\rag_buildling\\.venv\\lib\\site-packages (from pydantic<3.0.0,>=2.7.4->langchain) (0.7.0)\n",
      "Requirement already satisfied: pydantic-core==2.33.2 in c:\\temp\\textbooksrag\\experimentss\\rag_buildling\\.venv\\lib\\site-packages (from pydantic<3.0.0,>=2.7.4->langchain) (2.33.2)\n",
      "Requirement already satisfied: typing-inspection>=0.4.0 in c:\\temp\\textbooksrag\\experimentss\\rag_buildling\\.venv\\lib\\site-packages (from pydantic<3.0.0,>=2.7.4->langchain) (0.4.0)\n",
      "Requirement already satisfied: python-dotenv>=0.21.0 in c:\\temp\\textbooksrag\\experimentss\\rag_buildling\\.venv\\lib\\site-packages (from pydantic-settings<3.0.0,>=2.4.0->langchain-community) (1.1.0)\n",
      "Requirement already satisfied: charset-normalizer<4,>=2 in c:\\temp\\textbooksrag\\experimentss\\rag_buildling\\.venv\\lib\\site-packages (from requests<3,>=2->langchain) (3.4.2)\n",
      "Requirement already satisfied: idna<4,>=2.5 in c:\\temp\\textbooksrag\\experimentss\\rag_buildling\\.venv\\lib\\site-packages (from requests<3,>=2->langchain) (3.10)\n",
      "Requirement already satisfied: urllib3<3,>=1.21.1 in c:\\temp\\textbooksrag\\experimentss\\rag_buildling\\.venv\\lib\\site-packages (from requests<3,>=2->langchain) (2.4.0)\n",
      "Requirement already satisfied: certifi>=2017.4.17 in c:\\temp\\textbooksrag\\experimentss\\rag_buildling\\.venv\\lib\\site-packages (from requests<3,>=2->langchain) (2025.4.26)\n",
      "Requirement already satisfied: greenlet>=1 in c:\\temp\\textbooksrag\\experimentss\\rag_buildling\\.venv\\lib\\site-packages (from SQLAlchemy<3,>=1.4->langchain) (3.2.1)\n",
      "Requirement already satisfied: anyio in c:\\temp\\textbooksrag\\experimentss\\rag_buildling\\.venv\\lib\\site-packages (from httpx<1,>=0.23.0->langsmith<0.4,>=0.1.17->langchain) (4.9.0)\n",
      "Requirement already satisfied: httpcore==1.* in c:\\temp\\textbooksrag\\experimentss\\rag_buildling\\.venv\\lib\\site-packages (from httpx<1,>=0.23.0->langsmith<0.4,>=0.1.17->langchain) (1.0.9)\n",
      "Requirement already satisfied: h11>=0.16 in c:\\temp\\textbooksrag\\experimentss\\rag_buildling\\.venv\\lib\\site-packages (from httpcore==1.*->httpx<1,>=0.23.0->langsmith<0.4,>=0.1.17->langchain) (0.16.0)\n",
      "Requirement already satisfied: jsonpointer>=1.9 in c:\\temp\\textbooksrag\\experimentss\\rag_buildling\\.venv\\lib\\site-packages (from jsonpatch<2.0,>=1.33->langchain-core<1.0.0,>=0.3.58->langchain) (3.0.0)\n",
      "Requirement already satisfied: mypy-extensions>=0.3.0 in c:\\temp\\textbooksrag\\experimentss\\rag_buildling\\.venv\\lib\\site-packages (from typing-inspect<1,>=0.4.0->dataclasses-json<0.7,>=0.5.7->langchain-community) (1.1.0)\n",
      "Requirement already satisfied: sniffio>=1.1 in c:\\temp\\textbooksrag\\experimentss\\rag_buildling\\.venv\\lib\\site-packages (from anyio->httpx<1,>=0.23.0->langsmith<0.4,>=0.1.17->langchain) (1.3.1)\n",
      "Note: you may need to restart the kernel to use updated packages.\n"
     ]
    },
    {
     "name": "stderr",
     "output_type": "stream",
     "text": [
      "\n",
      "[notice] A new release of pip is available: 24.0 -> 25.1.1\n",
      "[notice] To update, run: python.exe -m pip install --upgrade pip\n"
     ]
    }
   ],
   "source": [
    "%pip install langchain langchain-community pypdf"
   ]
  },
  {
   "cell_type": "code",
   "execution_count": 1,
   "id": "bade1d8b",
   "metadata": {},
   "outputs": [],
   "source": [
    "from langchain_community.document_loaders import DirectoryLoader, PyPDFLoader"
   ]
  },
  {
   "cell_type": "code",
   "execution_count": 2,
   "id": "7ac632fd",
   "metadata": {},
   "outputs": [],
   "source": [
    "loader = DirectoryLoader(\n",
    "    path=\"data/Tenth/Resume\",\n",
    "    glob=\"*.pdf\",\n",
    "    loader_cls=PyPDFLoader\n",
    ")\n"
   ]
  },
  {
   "cell_type": "code",
   "execution_count": 3,
   "id": "167e7350",
   "metadata": {},
   "outputs": [],
   "source": [
    "documents = loader.load()"
   ]
  },
  {
   "cell_type": "code",
   "execution_count": 4,
   "id": "988c7ab0",
   "metadata": {},
   "outputs": [],
   "source": [
    "from langchain_text_splitters import RecursiveCharacterTextSplitter"
   ]
  },
  {
   "cell_type": "code",
   "execution_count": 5,
   "id": "7011e281",
   "metadata": {},
   "outputs": [],
   "source": [
    "splitter = RecursiveCharacterTextSplitter(chunk_size=1000, chunk_overlap=100)"
   ]
  },
  {
   "cell_type": "code",
   "execution_count": 6,
   "id": "70cea88b",
   "metadata": {},
   "outputs": [],
   "source": [
    "chunks = splitter.split_documents(documents)"
   ]
  },
  {
   "cell_type": "code",
   "execution_count": 7,
   "id": "1ba7bbbd",
   "metadata": {},
   "outputs": [
    {
     "name": "stdout",
     "output_type": "stream",
     "text": [
      "Total chunks: 6\n"
     ]
    }
   ],
   "source": [
    "print(f\"Total chunks: {len(chunks)}\")"
   ]
  },
  {
   "cell_type": "code",
   "execution_count": 8,
   "id": "22fba132",
   "metadata": {},
   "outputs": [
    {
     "name": "stdout",
     "output_type": "stream",
     "text": [
      "page_content='Python, Java, and JavaScript, I am keen on AI-driven solutions and web development. I am a proactive learner\n",
      "with strong problem-solving and team work skills.\n",
      "Education\n",
      "•Bachelor of Technology in Computer Science and Engineering (AIML) 2022–2026\n",
      "Vel Tech Rangarajan Dr. Sagunthala R&D Institute of Science and Technology, Chennai CGPA: 8.0(upto 5th Sem)\n",
      "•Intermediate (MPC) 2019–2021\n",
      "Narayana Junior College, Vijayawada Percentage: 92%\n",
      "•10th (SSC) 2020\n",
      "Montessori Public School, Ongole Percentage: 98%\n",
      "Technical Skills and Interests\n",
      "Languages: Python\n",
      "Libraries : Python Libraries\n",
      "Web Dev Tools: VScode, Github, Google Colab\n",
      "Relevent Coursework: Data Structures & Algorithms, Operating Systems, Object Oriented Programming, Database\n",
      "Management System, Software Engineering.\n",
      "Areas of Interest: Generative-AI, Build AI-Agents,Web Design and Development(Frontend).\n",
      "Soft Skills: Comunication, Self-learning, Commitment.\n",
      "MS Office:Ms Word, Ms PowerPoint\n",
      "Personal Projects' metadata={'producer': 'pdfTeX-1.40.26', 'creator': 'LaTeX with hyperref', 'creationdate': '2025-04-19T15:37:25+00:00', 'author': '', 'keywords': '', 'moddate': '2025-04-19T15:37:25+00:00', 'ptex.fullbanner': 'This is pdfTeX, Version 3.141592653-2.6-1.40.26 (TeX Live 2024) kpathsea version 6.4.0', 'subject': '', 'title': '', 'trapped': '/False', 'source': 'data\\\\Tenth\\\\Resume\\\\Raavi_Venkata_Suresh_Resume.pdf', 'total_pages': 2, 'page': 0, 'page_label': '1'}\n",
      "page_content='MS Office:Ms Word, Ms PowerPoint\n",
      "Personal Projects\n",
      "•E-Authentication Vehicle System July 2021-November 2021\n",
      "A web-based system for secure vehicle authentication and user identification.\n",
      "– Designed an authentication system to ensure authorized vehicle access.\n",
      "– Implemented high-security measures using advanced detection techniques.\n",
      "– Technology Used: Python, Flask, ReactJS, Bootstrap.\n",
      "•Code Pipeline for Beanstalk in AWS October 2023-November 2023\n",
      "A deployment pipeline for automating application deployment to AWS Elastic Beanstalk.\n",
      "– Developed a continuous integration and deployment pipeline using AWS CodePipeline.\n",
      "– Configured source, build, and deployment stages for streamlined application delivery.\n",
      "– Technology Used: AWS CodePipeline, AWS Elastic Beanstalk, AWS CLI.\n",
      "•Building LLMs using pre-trained Models November 2023-December 2023\n",
      "An AI-based chatbot capable of responding intelligently based on user sentiment.' metadata={'producer': 'pdfTeX-1.40.26', 'creator': 'LaTeX with hyperref', 'creationdate': '2025-04-19T15:37:25+00:00', 'author': '', 'keywords': '', 'moddate': '2025-04-19T15:37:25+00:00', 'ptex.fullbanner': 'This is pdfTeX, Version 3.141592653-2.6-1.40.26 (TeX Live 2024) kpathsea version 6.4.0', 'subject': '', 'title': '', 'trapped': '/False', 'source': 'data\\\\Tenth\\\\Resume\\\\Raavi_Venkata_Suresh_Resume.pdf', 'total_pages': 2, 'page': 0, 'page_label': '1'}\n",
      "page_content='An AI-based chatbot capable of responding intelligently based on user sentiment.\n",
      "– Developed a LLM that analyzes user questions to provide related Answers.\n",
      "– Using Pre-Trained Model(OpenAI) for instensive response with detailed information.\n",
      "– Technology Used: Python, OpenAI model, Flask, ReactJS.\n",
      "•House Price Prediction (Industry Project) November 2023-January 2024\n",
      "A machine learning model to predict house prices based on various features.\n",
      "– Built a regression-based model to predict house prices using key attributes like location, area, and amenities.\n",
      "– Performed data preprocessing, visualization, and feature engineering.\n",
      "– Technology Used: Python, Pandas, Scikit-learn, Matplotlib.' metadata={'producer': 'pdfTeX-1.40.26', 'creator': 'LaTeX with hyperref', 'creationdate': '2025-04-19T15:37:25+00:00', 'author': '', 'keywords': '', 'moddate': '2025-04-19T15:37:25+00:00', 'ptex.fullbanner': 'This is pdfTeX, Version 3.141592653-2.6-1.40.26 (TeX Live 2024) kpathsea version 6.4.0', 'subject': '', 'title': '', 'trapped': '/False', 'source': 'data\\\\Tenth\\\\Resume\\\\Raavi_Venkata_Suresh_Resume.pdf', 'total_pages': 2, 'page': 0, 'page_label': '1'}\n",
      "page_content='Experience\n",
      "•Skill Intern Development May 2024-October 2024\n",
      "Chennai\n",
      "– Gained foundational knowledge about Artificial Intelligence, including its real-world applications and industry\n",
      "relevance.\n",
      "– Learned to work with machine learning algorithms and their implementation in solving practical problems.\n",
      "– Improved collaboration and teamwork skills by engaging in group discussions and brainstorming sessions with\n",
      "peers.\n",
      "•Learn-Flu pvt Limited November-2024-December-2024\n",
      "Bengaluru\n",
      "– Acquired hands-on experience in building Artificial Intelligence models and deploying them in real-world scenarios.\n",
      "– Enhanced understanding of Articficial intelligence techniques and their application in developing intelligent LLMs.\n",
      "– Successfully completed a project on LLM development using Pre-Trained models like OpenAI,Gemeni.\n",
      "– Gained problem-solving skills by troubleshooting and optimizing machine learning workflows.\n",
      "Languages known\n",
      "English\n",
      "Hindi\n",
      "Tamil\n",
      "Telugu\n",
      "Certifications' metadata={'producer': 'pdfTeX-1.40.26', 'creator': 'LaTeX with hyperref', 'creationdate': '2025-04-19T15:37:25+00:00', 'author': '', 'keywords': '', 'moddate': '2025-04-19T15:37:25+00:00', 'ptex.fullbanner': 'This is pdfTeX, Version 3.141592653-2.6-1.40.26 (TeX Live 2024) kpathsea version 6.4.0', 'subject': '', 'title': '', 'trapped': '/False', 'source': 'data\\\\Tenth\\\\Resume\\\\Raavi_Venkata_Suresh_Resume.pdf', 'total_pages': 2, 'page': 1, 'page_label': '2'}\n",
      "page_content='Languages known\n",
      "English\n",
      "Hindi\n",
      "Tamil\n",
      "Telugu\n",
      "Certifications\n",
      "• Certificate of Completion Solutions Architecture Job Simulation by Forage\n",
      "• Certificate of Completion of What is Generative Ai? by LinkedIn\n",
      "• Natural Language Processing Practice Certification by Infosys\n",
      "• Internship Completion Certificate in Artificial Intelligence by Learn-Flu\n",
      "• Ensemble Machine Learning Techniques Certification by Infosys' metadata={'producer': 'pdfTeX-1.40.26', 'creator': 'LaTeX with hyperref', 'creationdate': '2025-04-19T15:37:25+00:00', 'author': '', 'keywords': '', 'moddate': '2025-04-19T15:37:25+00:00', 'ptex.fullbanner': 'This is pdfTeX, Version 3.141592653-2.6-1.40.26 (TeX Live 2024) kpathsea version 6.4.0', 'subject': '', 'title': '', 'trapped': '/False', 'source': 'data\\\\Tenth\\\\Resume\\\\Raavi_Venkata_Suresh_Resume.pdf', 'total_pages': 2, 'page': 1, 'page_label': '2'}\n"
     ]
    }
   ],
   "source": [
    "for chunk in chunks[1:10]:\n",
    "    print(chunk)"
   ]
  },
  {
   "cell_type": "code",
   "execution_count": 9,
   "id": "a4a8a22a",
   "metadata": {},
   "outputs": [
    {
     "name": "stdout",
     "output_type": "stream",
     "text": [
      "Note: you may need to restart the kernel to use updated packages.\n"
     ]
    },
    {
     "name": "stderr",
     "output_type": "stream",
     "text": [
      "\n",
      "[notice] A new release of pip is available: 24.0 -> 25.1.1\n",
      "[notice] To update, run: python.exe -m pip install --upgrade pip\n"
     ]
    }
   ],
   "source": [
    "%pip install -qU langchain-google-vertexai chromadb"
   ]
  },
  {
   "cell_type": "code",
   "execution_count": 10,
   "id": "2d5f294b",
   "metadata": {},
   "outputs": [],
   "source": [
    "from langchain_google_vertexai import VertexAIEmbeddings\n",
    "\n",
    "embedding_model = \"text-embedding-005\"\n",
    "embeddings = VertexAIEmbeddings(model_name=embedding_model)"
   ]
  },
  {
   "cell_type": "code",
   "execution_count": 11,
   "id": "ef50bce4",
   "metadata": {},
   "outputs": [
    {
     "name": "stdout",
     "output_type": "stream",
     "text": [
      "Stored in Chroma.\n"
     ]
    }
   ],
   "source": [
    "from langchain.vectorstores import Chroma\n",
    "\n",
    "chroma_store = Chroma.from_documents(\n",
    "    documents=chunks,\n",
    "    embedding=embeddings,\n",
    "    persist_directory=\"./chroma_db\"\n",
    ")\n",
    "\n",
    "print(\"Stored in Chroma.\")\n"
   ]
  },
  {
   "cell_type": "code",
   "execution_count": 12,
   "id": "b9324bee",
   "metadata": {},
   "outputs": [],
   "source": [
    "retriever = chroma_store.as_retriever(search_kwargs={\"k\": 4})\n"
   ]
  },
  {
   "cell_type": "code",
   "execution_count": 13,
   "id": "9febe7d2",
   "metadata": {},
   "outputs": [
    {
     "name": "stderr",
     "output_type": "stream",
     "text": [
      "C:\\Users\\raavi\\AppData\\Local\\Temp\\ipykernel_25540\\2853504857.py:1: LangChainDeprecationWarning: The method `BaseRetriever.get_relevant_documents` was deprecated in langchain-core 0.1.46 and will be removed in 1.0. Use :meth:`~invoke` instead.\n",
      "  results = retriever.get_relevant_documents(\"Breif The Nationalist Movement in Indo-China? \")\n"
     ]
    }
   ],
   "source": [
    "results = retriever.get_relevant_documents(\"Breif The Nationalist Movement in Indo-China? \")"
   ]
  },
  {
   "cell_type": "code",
   "execution_count": 16,
   "id": "707e096b",
   "metadata": {},
   "outputs": [],
   "source": [
    "results = retriever.invoke(\"Explain about me ?\")"
   ]
  },
  {
   "cell_type": "code",
   "execution_count": 17,
   "id": "c317a999",
   "metadata": {},
   "outputs": [
    {
     "name": "stdout",
     "output_type": "stream",
     "text": [
      "Python, Java, and JavaScript, I am keen on AI-driven solutions and web development. I am a proactive learner\n",
      "with strong problem-solving and team work skills.\n",
      "Education\n",
      "•Bachelor of Technology in Computer Science and Engineering (AIML) 2022–2026\n",
      "Vel Tech Rangarajan Dr. Sagunthala R&D Institute of Science and Technology, Chennai CGPA: 8.0(upto 5th Sem)\n",
      "•Intermediate (MPC) 2019–2021\n",
      "Narayana Junior College, Vijayawada Percentage: 92%\n",
      "•10th (SSC) 2020\n",
      "Montessori Public School, Ongole Percentage: 98%\n",
      "Technical Skills and Interests\n",
      "Languages: Python\n",
      "Libraries : Python Libraries\n",
      "Web Dev Tools: VScode, Github, Google Colab\n",
      "Relevent Coursework: Data Structures & Algorithms, Operating Systems, Object Oriented Programming, Database\n",
      "Management System, Software Engineering.\n",
      "Areas of Interest: Generative-AI, Build AI-Agents,Web Design and Development(Frontend).\n",
      "Soft Skills: Comunication, Self-learning, Commitment.\n",
      "MS Office:Ms Word, Ms PowerPoint\n",
      "Personal Projects\n",
      "Experience\n",
      "•Skill Intern Development May 2024-October 2024\n",
      "Chennai\n",
      "– Gained foundational knowledge about Artificial Intelligence, including its real-world applications and industry\n",
      "relevance.\n",
      "– Learned to work with machine learning algorithms and their implementation in solving practical problems.\n",
      "– Improved collaboration and teamwork skills by engaging in group discussions and brainstorming sessions with\n",
      "peers.\n",
      "•Learn-Flu pvt Limited November-2024-December-2024\n",
      "Bengaluru\n",
      "– Acquired hands-on experience in building Artificial Intelligence models and deploying them in real-world scenarios.\n",
      "– Enhanced understanding of Articficial intelligence techniques and their application in developing intelligent LLMs.\n",
      "– Successfully completed a project on LLM development using Pre-Trained models like OpenAI,Gemeni.\n",
      "– Gained problem-solving skills by troubleshooting and optimizing machine learning workflows.\n",
      "Languages known\n",
      "English\n",
      "Hindi\n",
      "Tamil\n",
      "Telugu\n",
      "Certifications\n",
      "MS Office:Ms Word, Ms PowerPoint\n",
      "Personal Projects\n",
      "•E-Authentication Vehicle System July 2021-November 2021\n",
      "A web-based system for secure vehicle authentication and user identification.\n",
      "– Designed an authentication system to ensure authorized vehicle access.\n",
      "– Implemented high-security measures using advanced detection techniques.\n",
      "– Technology Used: Python, Flask, ReactJS, Bootstrap.\n",
      "•Code Pipeline for Beanstalk in AWS October 2023-November 2023\n",
      "A deployment pipeline for automating application deployment to AWS Elastic Beanstalk.\n",
      "– Developed a continuous integration and deployment pipeline using AWS CodePipeline.\n",
      "– Configured source, build, and deployment stages for streamlined application delivery.\n",
      "– Technology Used: AWS CodePipeline, AWS Elastic Beanstalk, AWS CLI.\n",
      "•Building LLMs using pre-trained Models November 2023-December 2023\n",
      "An AI-based chatbot capable of responding intelligently based on user sentiment.\n",
      "RAAVI VENKATA SURESH ♂phone+91-9398599246\n",
      "/envel⌢peraavivenkat461@gmail.com\n",
      "Bachelor of Technology /githubhttps://github.com/raavivenkatasuresh03072004\n",
      "Vel Tech Rangarajan Dr. Sagunthala R&D\n",
      "Institute of Science and\n",
      "Technology,Chennai.\n",
      "/linkedinhttps://www.linkedin.com/in/raavi-venkata-suresh-25a6772b0/\n",
      "Objective\n",
      "This is Raavi Venkata Suresh, a passionate Computer Science and Engineering student specializing in Artificial\n",
      "Intelligence and Machine Learning. Currently pursuing a B.Tech at Vel Tech Rangarajan Dr. Sagunthala RD\n",
      "Institute of Science and Technology, he has hands-on experience in AI, machine learning,Generative-AI and\n",
      "web development. I have worked on various projects, including secure vehicle authentication, Large Language\n",
      "Models(LLMs) and Retrive Argument Generators(RAGs) development using different Pre-Trained models like\n",
      "Gemini,OpenAI,Authropic(claud) and house price prediction.With proficiency in programming languages like\n"
     ]
    }
   ],
   "source": [
    "for result in results:\n",
    "    print(result.page_content)\n"
   ]
  },
  {
   "cell_type": "code",
   "execution_count": 18,
   "id": "a721dd29",
   "metadata": {},
   "outputs": [
    {
     "name": "stdout",
     "output_type": "stream",
     "text": [
      "Requirement already satisfied: streamlit in c:\\temp\\textbooksrag\\experimentss\\rag_buildling\\.venv\\lib\\site-packages (1.45.0)\n",
      "Requirement already satisfied: altair<6,>=4.0 in c:\\temp\\textbooksrag\\experimentss\\rag_buildling\\.venv\\lib\\site-packages (from streamlit) (5.5.0)\n",
      "Requirement already satisfied: blinker<2,>=1.5.0 in c:\\temp\\textbooksrag\\experimentss\\rag_buildling\\.venv\\lib\\site-packages (from streamlit) (1.9.0)\n",
      "Requirement already satisfied: cachetools<6,>=4.0 in c:\\temp\\textbooksrag\\experimentss\\rag_buildling\\.venv\\lib\\site-packages (from streamlit) (5.5.2)\n",
      "Requirement already satisfied: click<9,>=7.0 in c:\\temp\\textbooksrag\\experimentss\\rag_buildling\\.venv\\lib\\site-packages (from streamlit) (8.1.8)\n",
      "Requirement already satisfied: numpy<3,>=1.23 in c:\\temp\\textbooksrag\\experimentss\\rag_buildling\\.venv\\lib\\site-packages (from streamlit) (2.2.5)\n",
      "Requirement already satisfied: packaging<25,>=20 in c:\\temp\\textbooksrag\\experimentss\\rag_buildling\\.venv\\lib\\site-packages (from streamlit) (24.2)\n",
      "Requirement already satisfied: pandas<3,>=1.4.0 in c:\\temp\\textbooksrag\\experimentss\\rag_buildling\\.venv\\lib\\site-packages (from streamlit) (2.2.3)\n",
      "Requirement already satisfied: pillow<12,>=7.1.0 in c:\\temp\\textbooksrag\\experimentss\\rag_buildling\\.venv\\lib\\site-packages (from streamlit) (11.2.1)\n",
      "Requirement already satisfied: protobuf<7,>=3.20 in c:\\temp\\textbooksrag\\experimentss\\rag_buildling\\.venv\\lib\\site-packages (from streamlit) (5.29.4)\n",
      "Requirement already satisfied: pyarrow>=7.0 in c:\\temp\\textbooksrag\\experimentss\\rag_buildling\\.venv\\lib\\site-packages (from streamlit) (19.0.1)\n",
      "Requirement already satisfied: requests<3,>=2.27 in c:\\temp\\textbooksrag\\experimentss\\rag_buildling\\.venv\\lib\\site-packages (from streamlit) (2.32.3)\n",
      "Requirement already satisfied: tenacity<10,>=8.1.0 in c:\\temp\\textbooksrag\\experimentss\\rag_buildling\\.venv\\lib\\site-packages (from streamlit) (9.1.2)\n",
      "Requirement already satisfied: toml<2,>=0.10.1 in c:\\temp\\textbooksrag\\experimentss\\rag_buildling\\.venv\\lib\\site-packages (from streamlit) (0.10.2)\n",
      "Requirement already satisfied: typing-extensions<5,>=4.4.0 in c:\\temp\\textbooksrag\\experimentss\\rag_buildling\\.venv\\lib\\site-packages (from streamlit) (4.13.2)\n",
      "Requirement already satisfied: watchdog<7,>=2.1.5 in c:\\temp\\textbooksrag\\experimentss\\rag_buildling\\.venv\\lib\\site-packages (from streamlit) (6.0.0)\n",
      "Requirement already satisfied: gitpython!=3.1.19,<4,>=3.0.7 in c:\\temp\\textbooksrag\\experimentss\\rag_buildling\\.venv\\lib\\site-packages (from streamlit) (3.1.44)\n",
      "Requirement already satisfied: pydeck<1,>=0.8.0b4 in c:\\temp\\textbooksrag\\experimentss\\rag_buildling\\.venv\\lib\\site-packages (from streamlit) (0.9.1)\n",
      "Requirement already satisfied: tornado<7,>=6.0.3 in c:\\temp\\textbooksrag\\experimentss\\rag_buildling\\.venv\\lib\\site-packages (from streamlit) (6.4.2)\n",
      "Requirement already satisfied: jinja2 in c:\\temp\\textbooksrag\\experimentss\\rag_buildling\\.venv\\lib\\site-packages (from altair<6,>=4.0->streamlit) (3.1.6)\n",
      "Requirement already satisfied: jsonschema>=3.0 in c:\\temp\\textbooksrag\\experimentss\\rag_buildling\\.venv\\lib\\site-packages (from altair<6,>=4.0->streamlit) (4.23.0)\n",
      "Requirement already satisfied: narwhals>=1.14.2 in c:\\temp\\textbooksrag\\experimentss\\rag_buildling\\.venv\\lib\\site-packages (from altair<6,>=4.0->streamlit) (1.37.1)\n",
      "Requirement already satisfied: colorama in c:\\temp\\textbooksrag\\experimentss\\rag_buildling\\.venv\\lib\\site-packages (from click<9,>=7.0->streamlit) (0.4.6)\n",
      "Requirement already satisfied: gitdb<5,>=4.0.1 in c:\\temp\\textbooksrag\\experimentss\\rag_buildling\\.venv\\lib\\site-packages (from gitpython!=3.1.19,<4,>=3.0.7->streamlit) (4.0.12)\n",
      "Requirement already satisfied: python-dateutil>=2.8.2 in c:\\temp\\textbooksrag\\experimentss\\rag_buildling\\.venv\\lib\\site-packages (from pandas<3,>=1.4.0->streamlit) (2.9.0.post0)\n",
      "Requirement already satisfied: pytz>=2020.1 in c:\\temp\\textbooksrag\\experimentss\\rag_buildling\\.venv\\lib\\site-packages (from pandas<3,>=1.4.0->streamlit) (2025.2)\n",
      "Requirement already satisfied: tzdata>=2022.7 in c:\\temp\\textbooksrag\\experimentss\\rag_buildling\\.venv\\lib\\site-packages (from pandas<3,>=1.4.0->streamlit) (2025.2)\n",
      "Requirement already satisfied: charset-normalizer<4,>=2 in c:\\temp\\textbooksrag\\experimentss\\rag_buildling\\.venv\\lib\\site-packages (from requests<3,>=2.27->streamlit) (3.4.2)\n",
      "Requirement already satisfied: idna<4,>=2.5 in c:\\temp\\textbooksrag\\experimentss\\rag_buildling\\.venv\\lib\\site-packages (from requests<3,>=2.27->streamlit) (3.10)\n",
      "Requirement already satisfied: urllib3<3,>=1.21.1 in c:\\temp\\textbooksrag\\experimentss\\rag_buildling\\.venv\\lib\\site-packages (from requests<3,>=2.27->streamlit) (2.4.0)\n",
      "Requirement already satisfied: certifi>=2017.4.17 in c:\\temp\\textbooksrag\\experimentss\\rag_buildling\\.venv\\lib\\site-packages (from requests<3,>=2.27->streamlit) (2025.4.26)\n",
      "Requirement already satisfied: smmap<6,>=3.0.1 in c:\\temp\\textbooksrag\\experimentss\\rag_buildling\\.venv\\lib\\site-packages (from gitdb<5,>=4.0.1->gitpython!=3.1.19,<4,>=3.0.7->streamlit) (5.0.2)\n",
      "Requirement already satisfied: MarkupSafe>=2.0 in c:\\temp\\textbooksrag\\experimentss\\rag_buildling\\.venv\\lib\\site-packages (from jinja2->altair<6,>=4.0->streamlit) (3.0.2)\n",
      "Requirement already satisfied: attrs>=22.2.0 in c:\\temp\\textbooksrag\\experimentss\\rag_buildling\\.venv\\lib\\site-packages (from jsonschema>=3.0->altair<6,>=4.0->streamlit) (25.3.0)\n",
      "Requirement already satisfied: jsonschema-specifications>=2023.03.6 in c:\\temp\\textbooksrag\\experimentss\\rag_buildling\\.venv\\lib\\site-packages (from jsonschema>=3.0->altair<6,>=4.0->streamlit) (2025.4.1)\n",
      "Requirement already satisfied: referencing>=0.28.4 in c:\\temp\\textbooksrag\\experimentss\\rag_buildling\\.venv\\lib\\site-packages (from jsonschema>=3.0->altair<6,>=4.0->streamlit) (0.36.2)\n",
      "Requirement already satisfied: rpds-py>=0.7.1 in c:\\temp\\textbooksrag\\experimentss\\rag_buildling\\.venv\\lib\\site-packages (from jsonschema>=3.0->altair<6,>=4.0->streamlit) (0.24.0)\n",
      "Requirement already satisfied: six>=1.5 in c:\\temp\\textbooksrag\\experimentss\\rag_buildling\\.venv\\lib\\site-packages (from python-dateutil>=2.8.2->pandas<3,>=1.4.0->streamlit) (1.17.0)\n",
      "Note: you may need to restart the kernel to use updated packages.\n"
     ]
    },
    {
     "name": "stderr",
     "output_type": "stream",
     "text": [
      "\n",
      "[notice] A new release of pip is available: 24.0 -> 25.1.1\n",
      "[notice] To update, run: python.exe -m pip install --upgrade pip\n"
     ]
    }
   ],
   "source": [
    "%pip install streamlit\n"
   ]
  }
 ],
 "metadata": {
  "kernelspec": {
   "display_name": ".venv",
   "language": "python",
   "name": "python3"
  },
  "language_info": {
   "codemirror_mode": {
    "name": "ipython",
    "version": 3
   },
   "file_extension": ".py",
   "mimetype": "text/x-python",
   "name": "python",
   "nbconvert_exporter": "python",
   "pygments_lexer": "ipython3",
   "version": "3.11.9"
  }
 },
 "nbformat": 4,
 "nbformat_minor": 5
}
